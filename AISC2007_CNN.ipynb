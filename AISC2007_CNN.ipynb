{
  "nbformat": 4,
  "nbformat_minor": 0,
  "metadata": {
    "colab": {
      "provenance": []
    },
    "kernelspec": {
      "name": "python3",
      "display_name": "Python 3"
    },
    "language_info": {
      "name": "python"
    }
  },
  "cells": [
    {
      "cell_type": "code",
      "execution_count": 2,
      "metadata": {
        "id": "IYttQVNC5YNR"
      },
      "outputs": [],
      "source": [
        "import zipfile\n",
        "import os\n",
        "import shutil\n",
        "from pathlib import Path\n",
        "import torch\n",
        "from torch.utils.data import DataLoader\n",
        "from torchvision.datasets import ImageFolder\n",
        "import torchvision.transforms as T\n",
        "import torchvision\n",
        "from torchvision import datasets, transforms\n",
        "from torch.utils.data import DataLoader, random_split\n",
        "from sklearn.model_selection import train_test_split\n",
        "from sklearn.metrics import confusion_matrix\n",
        "from sklearn.metrics import roc_auc_score\n",
        "from torch.utils.data import Subset\n",
        "import matplotlib.pyplot as plt\n",
        "from torch.utils.data import WeightedRandomSampler\n",
        "from collections import Counter\n",
        "import time\n",
        "import torch.optim as optim\n",
        "import numpy as np\n",
        "import torch.nn as nn\n",
        "import torch.nn.functional as F"
      ]
    },
    {
      "cell_type": "code",
      "source": [
        "# Extracting the images from ZipFile\n",
        "path_to_file = '/content/drive/MyDrive/FaceExpressions'\n",
        "EXTRACT_DATA_DIR = \"inputimageFiles\""
      ],
      "metadata": {
        "id": "M5Y9v7dp5gEo"
      },
      "execution_count": 3,
      "outputs": []
    },
    {
      "cell_type": "code",
      "source": [
        "from google.colab import drive\n",
        "drive.mount('/content/drive')"
      ],
      "metadata": {
        "colab": {
          "base_uri": "https://localhost:8080/"
        },
        "id": "n5pjinf45hX0",
        "outputId": "552130d6-dd0a-4744-bce9-7645183d4308"
      },
      "execution_count": 4,
      "outputs": [
        {
          "output_type": "stream",
          "name": "stdout",
          "text": [
            "Mounted at /content/drive\n"
          ]
        }
      ]
    },
    {
      "cell_type": "code",
      "source": [
        "print(os.listdir(path_to_file))\n",
        "print(os.listdir(path_to_file + \"/dataset/\"))"
      ],
      "metadata": {
        "colab": {
          "base_uri": "https://localhost:8080/"
        },
        "id": "FnuADyyc5vis",
        "outputId": "9583d827-d371-4b1f-9ee1-d85458139b70"
      },
      "execution_count": 5,
      "outputs": [
        {
          "output_type": "stream",
          "name": "stdout",
          "text": [
            "['data.csv', 'dataset']\n",
            "['Angry', 'Neutral', 'Sad', 'Happy', 'Surprise']\n"
          ]
        }
      ]
    },
    {
      "cell_type": "code",
      "source": [
        "print(os.listdir(path_to_file + \"/dataset/\"))\n",
        "DATA_DIR = path_to_file + \"/dataset/\""
      ],
      "metadata": {
        "colab": {
          "base_uri": "https://localhost:8080/"
        },
        "id": "3w9RHYAb6NQd",
        "outputId": "3cdc8592-088e-4dd2-aebf-4c2d282e78dd"
      },
      "execution_count": 6,
      "outputs": [
        {
          "output_type": "stream",
          "name": "stdout",
          "text": [
            "['Angry', 'Neutral', 'Sad', 'Happy', 'Surprise']\n"
          ]
        }
      ]
    },
    {
      "cell_type": "code",
      "source": [
        "# Create a dataset using the ImageFolder utility\n",
        "full_dataset = ImageFolder(DATA_DIR)\n",
        "\n",
        "# Count the number of images per class\n",
        "class_counts = {}\n",
        "for _, label in full_dataset.samples:\n",
        "    class_name = full_dataset.classes[label]\n",
        "    class_counts[class_name] = class_counts.get(class_name, 0) + 1\n",
        "\n",
        "print(class_counts)"
      ],
      "metadata": {
        "colab": {
          "base_uri": "https://localhost:8080/"
        },
        "id": "At481-HE6NUf",
        "outputId": "0ef07bba-508e-40b8-c086-541d03d65ed8"
      },
      "execution_count": 7,
      "outputs": [
        {
          "output_type": "stream",
          "name": "stdout",
          "text": [
            "{'Angry': 1339, 'Happy': 3793, 'Neutral': 4084, 'Sad': 3969, 'Surprise': 1234}\n"
          ]
        }
      ]
    },
    {
      "cell_type": "code",
      "source": [
        "# Defining the transformations, including conversion to tensor\n",
        "transform_augmentation = transforms.Compose([\n",
        "    transforms.Resize((64,64)),  # Resize the image to 64x64\n",
        "    transforms.RandomHorizontalFlip(),  # Randomly flip the images horizontally\n",
        "    transforms.RandomRotation(10),      # Random rotation between -10 to 10 degrees\n",
        "    transforms.ColorJitter(brightness=0.1, contrast=0.1, saturation=0.1, hue=0.1),  # Random color jitter\n",
        "    transforms.ToTensor(),  # Convert the PIL Image to a tensor\n",
        "    transforms.Normalize(mean=[0.485, 0.456, 0.406], std=[0.229, 0.224, 0.225]),  # Normalize the tensor\n",
        "])\n",
        "\n",
        "# Apply the transform to our ImageFolder dataset\n",
        "full_dataset = ImageFolder(DATA_DIR, transform=transform_augmentation)"
      ],
      "metadata": {
        "id": "QP0gZAl06NXN"
      },
      "execution_count": 8,
      "outputs": []
    },
    {
      "cell_type": "code",
      "source": [
        "# Obtaining the targets from the dataset\n",
        "targets = [label for _, label in full_dataset.samples]\n",
        "\n",
        "# Splitting the dataset while stratifying to preserve class distribution\n",
        "train_idx, test_idx = train_test_split(\n",
        "    list(range(len(targets))),\n",
        "    test_size=0.2,\n",
        "    random_state=42,\n",
        "    stratify=targets\n",
        ")"
      ],
      "metadata": {
        "id": "4DH8nXcB6bFv"
      },
      "execution_count": 9,
      "outputs": []
    },
    {
      "cell_type": "code",
      "source": [
        "# Using Subset to create datasets for training and testing\n",
        "train_dataset = Subset(full_dataset, train_idx)\n",
        "test_dataset = Subset(full_dataset, test_idx)"
      ],
      "metadata": {
        "id": "wJWcb_C96daC"
      },
      "execution_count": 10,
      "outputs": []
    },
    {
      "cell_type": "code",
      "source": [
        "# Count the number of occurrences of each label in the training set\n",
        "label_count = Counter([targets[i] for i in train_idx])\n",
        "\n",
        "# Create a weight for each sample in the training set\n",
        "weights = [1.0 / label_count[targets[i]] for i in train_idx]\n",
        "\n",
        "# Create the sampler\n",
        "sampler = WeightedRandomSampler(weights, num_samples=len(weights), replacement=True)\n",
        "\n",
        "# Create the DataLoader for training\n",
        "train_loader = DataLoader(train_dataset, batch_size=64, sampler=sampler)"
      ],
      "metadata": {
        "id": "2Dl8AfbA6gTL"
      },
      "execution_count": 11,
      "outputs": []
    },
    {
      "cell_type": "code",
      "source": [
        "# To check the distribution over several batches from the train_loader\n",
        "class_distribution_in_batches = Counter()\n",
        "\n",
        "for images, labels in train_loader:\n",
        "    class_distribution_in_batches.update(labels.numpy())\n",
        "\n",
        "print(class_distribution_in_batches)"
      ],
      "metadata": {
        "colab": {
          "base_uri": "https://localhost:8080/"
        },
        "id": "hOeA_CVM6kZb",
        "outputId": "6208808e-6bab-43c3-8d34-c97e2f0c2c3c"
      },
      "execution_count": 12,
      "outputs": [
        {
          "output_type": "stream",
          "name": "stdout",
          "text": [
            "Counter({1: 2364, 4: 2307, 3: 2300, 0: 2298, 2: 2266})\n"
          ]
        }
      ]
    },
    {
      "cell_type": "code",
      "source": [
        "class FaceExpressionCNN(nn.Module):\n",
        "    def __init__(self):\n",
        "        super(FaceExpressionCNN, self).__init__()\n",
        "        self.conv1 = nn.Conv2d(3, 32, kernel_size=3, padding=1)\n",
        "        self.conv2 = nn.Conv2d(32, 64, kernel_size=3, padding=1)\n",
        "        self.conv3 = nn.Conv2d(64, 128, kernel_size=3, padding=1)\n",
        "        self.fc1 = nn.Linear(128 * 8 * 8, 256)  # Adjust size based on your image dimension\n",
        "        self.fc2 = nn.Linear(256, len(full_dataset.classes))\n",
        "\n",
        "    def forward(self, x):\n",
        "        x = F.relu(self.conv1(x))\n",
        "        x = F.max_pool2d(x, 2)\n",
        "        x = F.relu(self.conv2(x))\n",
        "        x = F.max_pool2d(x, 2)\n",
        "        x = F.relu(self.conv3(x))\n",
        "        x = F.max_pool2d(x, 2)\n",
        "        x = x.view(-1, 128 * 8 * 8)  # Flatten the tensor for the fully connected layer\n",
        "        x = F.relu(self.fc1(x))\n",
        "        x = self.fc2(x)\n",
        "        return x"
      ],
      "metadata": {
        "id": "GRztyzwj6pBF"
      },
      "execution_count": 13,
      "outputs": []
    },
    {
      "cell_type": "code",
      "source": [
        "# Initialize the model, loss function, and optimizer\n",
        "model = FaceExpressionCNN()\n",
        "criterion = nn.CrossEntropyLoss()\n",
        "optimizer = torch.optim.Adam(model.parameters(), lr=0.001)\n"
      ],
      "metadata": {
        "id": "3MAeDotsCbfT"
      },
      "execution_count": 14,
      "outputs": []
    },
    {
      "cell_type": "code",
      "source": [
        "test_loader = DataLoader(test_dataset, batch_size=64, shuffle=False)"
      ],
      "metadata": {
        "id": "APKYmYpzGs_C"
      },
      "execution_count": 15,
      "outputs": []
    },
    {
      "cell_type": "code",
      "source": [],
      "metadata": {
        "id": "xgEx5oZ3yLwE"
      },
      "execution_count": 15,
      "outputs": []
    },
    {
      "cell_type": "code",
      "source": [
        "# Prepare for training and evaluation\n",
        "num_epochs = 10\n",
        "start_time = time.time()\n",
        "\n",
        "train_accuracies = []\n",
        "test_accuracies = []\n",
        "losses = []\n",
        "\n",
        "for epoch in range(num_epochs):\n",
        "    model.train()  # Set model to training mode\n",
        "    running_loss = 0.0\n",
        "    correct_train = 0\n",
        "    total_train = 0\n",
        "\n",
        "    # Training loop\n",
        "    for images, labels in train_loader:\n",
        "        optimizer.zero_grad()\n",
        "        outputs = model(images)\n",
        "        loss = criterion(outputs, labels)\n",
        "        loss.backward()\n",
        "        optimizer.step()\n",
        "\n",
        "        running_loss += loss.item()\n",
        "        _, predicted = torch.max(outputs.data, 1)\n",
        "        correct_train += (predicted == labels).sum().item()\n",
        "        total_train += labels.size(0)\n",
        "\n",
        "    train_accuracy = 100 * correct_train / total_train\n",
        "    train_accuracies.append(train_accuracy)\n",
        "    losses.append(running_loss / len(train_loader))\n",
        "\n",
        "    # Validation loop\n",
        "    model.eval()  # Set model to evaluation mode\n",
        "    correct_test = 0\n",
        "    total_test = 0\n",
        "    with torch.no_grad():\n",
        "        for images, labels in test_loader:\n",
        "            outputs = model(images)\n",
        "            _, predicted = torch.max(outputs.data, 1)\n",
        "            correct_test += (predicted == labels).sum().item()\n",
        "            total_test += labels.size(0)\n",
        "\n",
        "    test_accuracy = 100 * correct_test / total_test\n",
        "    test_accuracies.append(test_accuracy)\n",
        "\n",
        "    print(f'Epoch {epoch+1}/{num_epochs}, Loss: {running_loss/len(train_loader):.4f}, Train Acc: {train_accuracy:.2f}%, Test Acc: {test_accuracy:.2f}%')\n",
        "\n",
        "end_time = time.time()\n",
        "print(f'Training time: {end_time - start_time} seconds')"
      ],
      "metadata": {
        "colab": {
          "base_uri": "https://localhost:8080/"
        },
        "id": "CTRrjC7vCbqt",
        "outputId": "aca311c6-39f6-429a-fbc5-86ac353fbd2f"
      },
      "execution_count": 16,
      "outputs": [
        {
          "output_type": "stream",
          "name": "stdout",
          "text": [
            "Epoch 1/10, Loss: 1.3885, Train Acc: 39.60%, Test Acc: 47.19%\n",
            "Epoch 2/10, Loss: 1.0855, Train Acc: 57.83%, Test Acc: 54.54%\n",
            "Epoch 3/10, Loss: 0.9185, Train Acc: 63.84%, Test Acc: 59.99%\n",
            "Epoch 4/10, Loss: 0.8370, Train Acc: 67.56%, Test Acc: 60.61%\n",
            "Epoch 5/10, Loss: 0.7895, Train Acc: 68.83%, Test Acc: 60.78%\n",
            "Epoch 6/10, Loss: 0.7264, Train Acc: 71.37%, Test Acc: 62.90%\n",
            "Epoch 7/10, Loss: 0.6710, Train Acc: 73.33%, Test Acc: 64.91%\n",
            "Epoch 8/10, Loss: 0.6360, Train Acc: 74.93%, Test Acc: 65.53%\n",
            "Epoch 9/10, Loss: 0.5973, Train Acc: 76.02%, Test Acc: 66.26%\n",
            "Epoch 10/10, Loss: 0.5690, Train Acc: 77.16%, Test Acc: 64.56%\n",
            "Training time: 5415.826303243637 seconds\n"
          ]
        }
      ]
    },
    {
      "cell_type": "code",
      "source": [
        "# Evaluation for confusion matrix and AUC score\n",
        "all_labels = []\n",
        "all_predictions = []\n",
        "\n",
        "for images, labels in test_loader:\n",
        "    outputs = model(images)\n",
        "    _, predicted = torch.max(outputs, 1)\n",
        "    all_labels.extend(labels.tolist())  # Convert labels to list and extend the existing list\n",
        "    all_predictions.extend(predicted.tolist())  # Convert predictions to list and extend the existing list"
      ],
      "metadata": {
        "id": "uWTISrNtCbuR"
      },
      "execution_count": 17,
      "outputs": []
    },
    {
      "cell_type": "code",
      "source": [
        "# calculating the confusion matrix and AUC score using the accumulated labels and predictions\n",
        "conf_matrix = confusion_matrix(all_labels, all_predictions)\n",
        "print(\"Confusion Matrix:\")\n",
        "print(conf_matrix)"
      ],
      "metadata": {
        "colab": {
          "base_uri": "https://localhost:8080/"
        },
        "id": "94alcTKPeUoc",
        "outputId": "06db5e83-e575-4a42-b559-814b7f649875"
      },
      "execution_count": 18,
      "outputs": [
        {
          "output_type": "stream",
          "name": "stdout",
          "text": [
            "Confusion Matrix:\n",
            "[[188  16  11  34  19]\n",
            " [ 10 666  10  46  26]\n",
            " [ 80  68 325 277  67]\n",
            " [ 74  79  94 486  61]\n",
            " [  6  19  12  15 195]]\n"
          ]
        }
      ]
    },
    {
      "cell_type": "code",
      "source": [
        "# Before calculating AUC, we need to convert the predictions to a one-hot encoded format\n",
        "from sklearn.preprocessing import label_binarize\n",
        "all_labels_binarized = label_binarize(all_labels, classes=range(len(full_dataset.classes)))\n",
        "all_predictions_binarized = label_binarize(all_predictions, classes=range(len(full_dataset.classes)))\n",
        "\n",
        "auc_score = roc_auc_score(all_labels_binarized, all_predictions_binarized, multi_class='ovr', average='macro')\n",
        "print(f'AUC Score: {auc_score}')"
      ],
      "metadata": {
        "colab": {
          "base_uri": "https://localhost:8080/"
        },
        "id": "Ld1eY5WyeZ49",
        "outputId": "8b7056be-7c9f-4e76-c997-20d687f3b3bd"
      },
      "execution_count": 19,
      "outputs": [
        {
          "output_type": "stream",
          "name": "stdout",
          "text": [
            "AUC Score: 0.7923853217250716\n"
          ]
        }
      ]
    },
    {
      "cell_type": "code",
      "source": [
        "# Plotting the training and validation accuracies\n",
        "plt.plot(range(1, num_epochs + 1), train_accuracies, label='Training Accuracy')\n",
        "plt.plot(range(1, num_epochs + 1), test_accuracies, label='Validation Accuracy')\n",
        "plt.xlabel('Epochs')\n",
        "plt.ylabel('Accuracy')\n",
        "plt.title('Training and Validation Accuracy')\n",
        "plt.legend()\n",
        "plt.show()"
      ],
      "metadata": {
        "colab": {
          "base_uri": "https://localhost:8080/",
          "height": 472
        },
        "id": "Wsjur-0jedMz",
        "outputId": "b679826d-6ed2-442f-c9ed-45d652d736d4"
      },
      "execution_count": 20,
      "outputs": [
        {
          "output_type": "display_data",
          "data": {
            "text/plain": [
              "<Figure size 640x480 with 1 Axes>"
            ],
            "image/png": "[encoded data removed]"
          },
          "metadata": {}
        }
      ]
    },
    {
      "cell_type": "code",
      "source": [
        "# Plotting the losses\n",
        "plt.plot(range(1, num_epochs + 1), losses, label='Training Loss')\n",
        "plt.xlabel('Epochs')\n",
        "plt.ylabel('Loss')\n",
        "plt.title('Training Loss')\n",
        "plt.legend()\n",
        "plt.show()"
      ],
      "metadata": {
        "colab": {
          "base_uri": "https://localhost:8080/",
          "height": 472
        },
        "id": "yvd5wOBCefwe",
        "outputId": "2eede9b9-7767-481a-c9ae-d63d2e2c9669"
      },
      "execution_count": 21,
      "outputs": [
        {
          "output_type": "display_data",
          "data": {
            "text/plain": [
              "<Figure size 640x480 with 1 Axes>"
            ],
            "image/png": "[encoded data removed]"
          },
          "metadata": {}
        }
      ]
    },
    {
      "cell_type": "code",
      "source": [
        "#Emperical Tuning\n",
        "\n",
        "\n",
        "transform_augmentation = transforms.Compose([\n",
        "    transforms.Resize((64,64)),\n",
        "    transforms.RandomHorizontalFlip(),\n",
        "    transforms.RandomRotation(10),\n",
        "    transforms.ColorJitter(brightness=0.2, contrast=0.2, saturation=0.2, hue=0.1),\n",
        "    transforms.RandomAffine(degrees=0, translate=(0.1, 0.1), scale=(0.9, 1.1)),\n",
        "    transforms.GaussianBlur(kernel_size=(5, 9), sigma=(0.1, 5)),\n",
        "    transforms.ToTensor(),\n",
        "    transforms.Normalize(mean=[0.485, 0.456, 0.406], std=[0.229, 0.224, 0.225]),\n",
        "])\n",
        "# Apply the transform to our ImageFolder dataset\n",
        "full_dataset = ImageFolder(DATA_DIR, transform=transform_augmentation)"
      ],
      "metadata": {
        "id": "FKq2JIafej2l"
      },
      "execution_count": 22,
      "outputs": []
    },
    {
      "cell_type": "code",
      "source": [
        "targets = [label for _, label in full_dataset.samples]\n",
        "train_idx, test_idx = train_test_split(\n",
        "    list(range(len(targets))),\n",
        "    test_size=0.2,\n",
        "    random_state=42,\n",
        "    stratify=targets\n",
        ")"
      ],
      "metadata": {
        "id": "XX468vGCejHv"
      },
      "execution_count": 23,
      "outputs": []
    },
    {
      "cell_type": "code",
      "source": [
        "# Using Subset to create datasets for training and testing\n",
        "train_dataset = Subset(full_dataset, train_idx)\n",
        "test_dataset = Subset(full_dataset, test_idx)"
      ],
      "metadata": {
        "id": "H9EeGNTDfa3X"
      },
      "execution_count": 24,
      "outputs": []
    },
    {
      "cell_type": "code",
      "source": [
        "# Count the number of occurrences of each label in the training set\n",
        "label_count = Counter([targets[i] for i in train_idx])\n",
        "\n",
        "# Create a weight for each sample in the training set\n",
        "weights = [1.0 / label_count[targets[i]] for i in train_idx]\n",
        "\n",
        "# Create the sampler\n",
        "sampler = WeightedRandomSampler(weights, num_samples=len(weights), replacement=True)"
      ],
      "metadata": {
        "id": "lHZBlc7SffNC"
      },
      "execution_count": 25,
      "outputs": []
    },
    {
      "cell_type": "code",
      "source": [
        "optimizer = torch.optim.Adam(model.parameters(), lr=0.0005)\n",
        "train_loader = DataLoader(train_dataset, batch_size=32, sampler=sampler)\n",
        "test_loader = DataLoader(test_dataset, batch_size=32, shuffle=False)"
      ],
      "metadata": {
        "id": "C0Hg2hNbfjVu"
      },
      "execution_count": 26,
      "outputs": []
    },
    {
      "cell_type": "code",
      "source": [
        "class FaceExpressionCNN(nn.Module):\n",
        "    def __init__(self):\n",
        "        super(FaceExpressionCNN, self).__init__()\n",
        "        self.conv1 = nn.Conv2d(3, 32, kernel_size=3, padding=1)\n",
        "        self.conv2 = nn.Conv2d(32, 64, kernel_size=3, padding=1)\n",
        "        self.conv3 = nn.Conv2d(64, 128, kernel_size=3, padding=1)\n",
        "        self.drop = nn.Dropout(0.5)  # Dropout layer\n",
        "        self.fc1 = nn.Linear(128 * 8 * 8, 256)\n",
        "        self.fc2 = nn.Linear(256, len(full_dataset.classes))\n",
        "\n",
        "    def forward(self, x):\n",
        "        x = F.relu(self.conv1(x))\n",
        "        x = F.max_pool2d(x, 2)\n",
        "        x = self.drop(x)  # Apply dropout\n",
        "        x = F.relu(self.conv2(x))\n",
        "        x = F.max_pool2d(x, 2)\n",
        "        x = self.drop(x)  # Apply dropout\n",
        "        x = F.relu(self.conv3(x))\n",
        "        x = F.max_pool2d(x, 2)\n",
        "        x = x.view(-1, 128 * 8 * 8)  # Flatten the tensor\n",
        "        x = F.relu(self.fc1(x))\n",
        "        x = self.drop(x)  # Apply dropout before final layer\n",
        "        x = self.fc2(x)\n",
        "        return x"
      ],
      "metadata": {
        "id": "QIrH7ABhfnly"
      },
      "execution_count": 27,
      "outputs": []
    },
    {
      "cell_type": "code",
      "source": [
        "model = FaceExpressionCNN()"
      ],
      "metadata": {
        "id": "GvLvUvPvfnyc"
      },
      "execution_count": 28,
      "outputs": []
    },
    {
      "cell_type": "code",
      "source": [
        "# Loss function and optimizer with a new learning rate\n",
        "criterion = nn.CrossEntropyLoss()\n",
        "optimizer = torch.optim.Adam(model.parameters(), lr=0.0005)\n",
        "\n",
        "# Training loop\n",
        "num_epochs = 10\n",
        "for epoch in range(num_epochs):\n",
        "    model.train()\n",
        "    running_loss = 0.0\n",
        "    correct_train = 0\n",
        "    total_train = 0\n",
        "\n",
        "    for images, labels in train_loader:\n",
        "        optimizer.zero_grad()\n",
        "        outputs = model(images)\n",
        "        loss = criterion(outputs, labels)\n",
        "        loss.backward()\n",
        "        optimizer.step()\n",
        "\n",
        "        running_loss += loss.item()\n",
        "        _, predicted = torch.max(outputs.data, 1)\n",
        "        correct_train += (predicted == labels).sum().item()\n",
        "        total_train += labels.size(0)\n",
        "\n",
        "    train_accuracy = 100 * correct_train / total_train\n",
        "\n",
        "    # Validation loop\n",
        "    model.eval()\n",
        "    correct_test = 0\n",
        "    total_test = 0\n",
        "    with torch.no_grad():\n",
        "        for images, labels in test_loader:\n",
        "            outputs = model(images)\n",
        "            _, predicted = torch.max(outputs.data, 1)\n",
        "            correct_test += (predicted == labels).sum().item()\n",
        "            total_test += labels.size(0)\n",
        "\n",
        "    test_accuracy = 100 * correct_test / total_test\n",
        "\n",
        "    print(f'Epoch {epoch+1}/{num_epochs}, Loss: {running_loss/len(train_loader):.4f}, '\n",
        "          f'Train Acc: {train_accuracy:.2f}%, Test Acc: {test_accuracy:.2f}%')"
      ],
      "metadata": {
        "colab": {
          "base_uri": "https://localhost:8080/"
        },
        "id": "W8KzBQ2rfvAN",
        "outputId": "bcd2d973-9392-47e7-8b17-32e3bab0e6a4"
      },
      "execution_count": 29,
      "outputs": [
        {
          "output_type": "stream",
          "name": "stdout",
          "text": [
            "Epoch 1/10, Loss: 1.5657, Train Acc: 29.48%, Test Acc: 29.79%\n",
            "Epoch 2/10, Loss: 1.4979, Train Acc: 33.91%, Test Acc: 34.33%\n",
            "Epoch 3/10, Loss: 1.4477, Train Acc: 37.93%, Test Acc: 34.95%\n",
            "Epoch 4/10, Loss: 1.4161, Train Acc: 39.38%, Test Acc: 36.72%\n",
            "Epoch 5/10, Loss: 1.3882, Train Acc: 41.74%, Test Acc: 38.56%\n",
            "Epoch 6/10, Loss: 1.3518, Train Acc: 43.37%, Test Acc: 38.56%\n",
            "Epoch 7/10, Loss: 1.3396, Train Acc: 44.69%, Test Acc: 42.16%\n",
            "Epoch 8/10, Loss: 1.3130, Train Acc: 45.50%, Test Acc: 42.16%\n",
            "Epoch 9/10, Loss: 1.3199, Train Acc: 45.62%, Test Acc: 46.01%\n",
            "Epoch 10/10, Loss: 1.2933, Train Acc: 46.71%, Test Acc: 43.55%\n"
          ]
        }
      ]
    },
    {
      "cell_type": "code",
      "source": [
        "end_time = time.time()\n",
        "print(f'Training time: {end_time - start_time} seconds')"
      ],
      "metadata": {
        "colab": {
          "base_uri": "https://localhost:8080/"
        },
        "id": "IygWvZQjtOhT",
        "outputId": "4907b234-fac2-48a8-fc1b-f7ef9fcb24ed"
      },
      "execution_count": 30,
      "outputs": [
        {
          "output_type": "stream",
          "name": "stdout",
          "text": [
            "Training time: 9102.218125343323 seconds\n"
          ]
        }
      ]
    },
    {
      "cell_type": "code",
      "source": [
        "# Evaluation for confusion matrix and AUC score\n",
        "all_labels = []\n",
        "all_predictions = []\n",
        "\n",
        "for images, labels in test_loader:\n",
        "    outputs = model(images)\n",
        "    _, predicted = torch.max(outputs, 1)\n",
        "    all_labels.extend(labels.tolist())  # Convert labels to list and extend the existing list\n",
        "    all_predictions.extend(predicted.tolist())  # Convert predictions to list and extend the existing list"
      ],
      "metadata": {
        "id": "SqXilu1HtSaH"
      },
      "execution_count": 31,
      "outputs": []
    },
    {
      "cell_type": "code",
      "source": [
        "# calculating the confusion matrix and AUC score using the accumulated labels and predictions\n",
        "conf_matrix = confusion_matrix(all_labels, all_predictions)\n",
        "print(\"Confusion Matrix:\")\n",
        "print(conf_matrix)"
      ],
      "metadata": {
        "colab": {
          "base_uri": "https://localhost:8080/"
        },
        "id": "0fCNDhhjtnRG",
        "outputId": "a125583b-ce83-4a94-dad1-fa33d36c42ae"
      },
      "execution_count": 32,
      "outputs": [
        {
          "output_type": "stream",
          "name": "stdout",
          "text": [
            "Confusion Matrix:\n",
            "[[185  26  20  10  27]\n",
            " [109 477  62  47  63]\n",
            " [242 141 275 101  58]\n",
            " [266 141 163 135  89]\n",
            " [ 67  22  12   9 137]]\n"
          ]
        }
      ]
    },
    {
      "cell_type": "code",
      "source": [
        "# Before calculating AUC, we need to convert the predictions to a one-hot encoded format\n",
        "from sklearn.preprocessing import label_binarize\n",
        "all_labels_binarized = label_binarize(all_labels, classes=range(len(full_dataset.classes)))\n",
        "all_predictions_binarized = label_binarize(all_predictions, classes=range(len(full_dataset.classes)))\n",
        "\n",
        "auc_score = roc_auc_score(all_labels_binarized, all_predictions_binarized, multi_class='ovr', average='macro')\n",
        "print(f'AUC Score: {auc_score}')"
      ],
      "metadata": {
        "colab": {
          "base_uri": "https://localhost:8080/"
        },
        "id": "ljy8I3fltsuy",
        "outputId": "7609930c-6a0e-46b7-fe22-0118bca43643"
      },
      "execution_count": 33,
      "outputs": [
        {
          "output_type": "stream",
          "name": "stdout",
          "text": [
            "AUC Score: 0.6670061561921099\n"
          ]
        }
      ]
    },
    {
      "cell_type": "code",
      "source": [
        "# Plotting the training and validation accuracies\n",
        "plt.plot(range(1, num_epochs + 1), train_accuracies, label='Training Accuracy')\n",
        "plt.plot(range(1, num_epochs + 1), test_accuracies, label='Validation Accuracy')\n",
        "plt.xlabel('Epochs')\n",
        "plt.ylabel('Accuracy')\n",
        "plt.title('Training and Validation Accuracy')\n",
        "plt.legend()\n",
        "plt.show()"
      ],
      "metadata": {
        "colab": {
          "base_uri": "https://localhost:8080/",
          "height": 472
        },
        "id": "d0qZ9Qc-tvKU",
        "outputId": "742c2e45-40c1-4bf6-9ad2-01e7ea521148"
      },
      "execution_count": 34,
      "outputs": [
        {
          "output_type": "display_data",
          "data": {
            "text/plain": [
              "<Figure size 640x480 with 1 Axes>"
            ],
            "image/png": "[encoded data removed]"
          },
          "metadata": {}
        }
      ]
    },
    {
      "cell_type": "code",
      "source": [
        "# Plotting the losses\n",
        "plt.plot(range(1, num_epochs + 1), losses, label='Training Loss')\n",
        "plt.xlabel('Epochs')\n",
        "plt.ylabel('Loss')\n",
        "plt.title('Training Loss')\n",
        "plt.legend()\n",
        "plt.show()"
      ],
      "metadata": {
        "colab": {
          "base_uri": "https://localhost:8080/",
          "height": 472
        },
        "id": "YzmM63JdtyMF",
        "outputId": "9c13abd9-8ea1-419c-8d98-3340913cf2ba"
      },
      "execution_count": 35,
      "outputs": [
        {
          "output_type": "display_data",
          "data": {
            "text/plain": [
              "<Figure size 640x480 with 1 Axes>"
            ],
            "image/png": "[encoded data removed]"
          },
          "metadata": {}
        }
      ]
    },
    {
      "cell_type": "code",
      "source": [
        "# Define the file path to save the model\n",
        "model_path = '/content/drive/MyDrive/FaceExpressions/model.hdf5'"
      ],
      "metadata": {
        "id": "T1lHcJU-GQ0T"
      },
      "execution_count": 42,
      "outputs": []
    },
    {
      "cell_type": "code",
      "source": [
        "# Save the model\n",
        "torch.save(model.state_dict(), model_path)"
      ],
      "metadata": {
        "id": "anct8nITHvVr"
      },
      "execution_count": 43,
      "outputs": []
    },
    {
      "cell_type": "code",
      "source": [
        "# Load the saved model\n",
        "model.load_state_dict(torch.load(model_path))"
      ],
      "metadata": {
        "colab": {
          "base_uri": "https://localhost:8080/"
        },
        "id": "lVkKYh9kH3kg",
        "outputId": "1cf1376f-5024-45f6-cf38-22c62354dc19"
      },
      "execution_count": 40,
      "outputs": [
        {
          "output_type": "execute_result",
          "data": {
            "text/plain": [
              "<All keys matched successfully>"
            ]
          },
          "metadata": {},
          "execution_count": 40
        }
      ]
    },
    {
      "cell_type": "code",
      "source": [
        "!pip install streamlit"
      ],
      "metadata": {
        "colab": {
          "base_uri": "https://localhost:8080/"
        },
        "id": "OQxSsRG5KPq3",
        "outputId": "3171b432-2def-4163-91bb-de4baadd7a75"
      },
      "execution_count": 41,
      "outputs": [
        {
          "output_type": "stream",
          "name": "stdout",
          "text": [
            "\u001b[31mERROR: Operation cancelled by user\u001b[0m\u001b[31m\n",
            "\u001b[0m"
          ]
        }
      ]
    },
    {
      "cell_type": "code",
      "source": [
        "import streamlit as st\n",
        "import torch\n",
        "from torchvision.utils import make_grid\n",
        "import numpy as np\n",
        "from PIL import Image\n",
        "\n",
        "# Function to generate images using the specified model\n",
        "def generate_images(generator, num_images, latent_size):\n",
        "    # Generate latent vectors\n",
        "    latent_vectors = torch.randn(num_images, latent_size, 1, 1)\n",
        "    # Generate images\n",
        "    with torch.no_grad():\n",
        "        generated_images = generator(latent_vectors)\n",
        "    return generated_images\n",
        "\n",
        "# Dictionary to map expressions to corresponding model paths\n",
        "expression_to_model = {\n",
        "    'model': '/content/drive/MyDrive/FaceExpressions/model.pth',\n",
        "}\n",
        "\n",
        "\n",
        "# Streamlit app\n",
        "st.title(\"Image Generation\")\n",
        "\n",
        "# Dropdown to select expression\n",
        "expression = st.selectbox(\"Select Expression\", options=['Angry', 'Happy', 'Neutral', 'Sad', 'Surprise'])\n",
        "\n",
        "# Load the selected model\n",
        "@st.cache_resource\n",
        "def load_model(expression):\n",
        "    model_path = expression_to_model[expression]\n",
        "    return torch.load(model_path, map_location=torch.device('cpu'))  # Load the model\n",
        "\n",
        "# Load model\n",
        "model = load_model(expression)\n",
        "\n",
        "# Specify number of images to generate\n",
        "num_images = st.number_input(\"Number of Images to Generate\", value=1)\n",
        "\n",
        "# Generate and display images\n",
        "if st.button(\"Generate Images\"):\n",
        "    latent_size = 128  # Assuming latent size is 100\n",
        "    generated_images = generate_images(model, num_images, latent_size)\n",
        "    # Create a grid of generated images\n",
        "    grid = make_grid(generated_images, nrow=4, normalize=True)\n",
        "    # Convert tensor to PIL Image\n",
        "    image = Image.fromarray(grid.mul(255).clamp(0, 255).byte().permute(1, 2, 0).cpu().numpy())\n",
        "    st.image(image, caption=f\"Generated {num_images} images\", use_column_width=True)"
      ],
      "metadata": {
        "id": "qrExCkrTKAGK"
      },
      "execution_count": null,
      "outputs": []
    }
  ]
}